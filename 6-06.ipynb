{
 "metadata": {
  "language_info": {
   "codemirror_mode": {
    "name": "ipython",
    "version": 3
   },
   "file_extension": ".py",
   "mimetype": "text/x-python",
   "name": "python",
   "nbconvert_exporter": "python",
   "pygments_lexer": "ipython3",
   "version": "3.8.2-final"
  },
  "orig_nbformat": 2,
  "kernelspec": {
   "name": "python_defaultSpec_1597918825537",
   "display_name": "Python 3.8.2 32-bit"
  }
 },
 "nbformat": 4,
 "nbformat_minor": 2,
 "cells": [
  {
   "cell_type": "code",
   "execution_count": 1,
   "metadata": {},
   "outputs": [
    {
     "output_type": "execute_result",
     "data": {
      "text/plain": "3.141592653589793"
     },
     "metadata": {},
     "execution_count": 1
    }
   ],
   "source": [
    "import math\n",
    "math.pi"
   ]
  },
  {
   "cell_type": "code",
   "execution_count": 2,
   "metadata": {
    "tags": []
   },
   "outputs": [
    {
     "output_type": "stream",
     "name": "stdout",
     "text": "['__builtins__', '__cached__', '__doc__', '__file__', '__loader__', '__name__', '__package__', '__spec__', 'func']\n"
    }
   ],
   "source": [
    "import my_module\n",
    "my_module_attri = dir(my_module)\n",
    "print(my_module_attri)"
   ]
  },
  {
   "cell_type": "code",
   "execution_count": 6,
   "metadata": {},
   "outputs": [
    {
     "output_type": "error",
     "ename": "SyntaxError",
     "evalue": "no binding for nonlocal 's2' found (<ipython-input-6-57808e80f981>, line 9)",
     "traceback": [
      "\u001b[1;36m  File \u001b[1;32m\"<ipython-input-6-57808e80f981>\"\u001b[1;36m, line \u001b[1;32m9\u001b[0m\n\u001b[1;33m    nonlocal s2\u001b[0m\n\u001b[1;37m    ^\u001b[0m\n\u001b[1;31mSyntaxError\u001b[0m\u001b[1;31m:\u001b[0m no binding for nonlocal 's2' found\n"
     ]
    }
   ],
   "source": [
    "#グローバルスコープ\n",
    "def scope_test():\n",
    "    #ネステッドスコープ(scope_testのローカルスコープ)\n",
    "    def do_local():\n",
    "        #ローカルスコープ\n",
    "        s1 = \"local     \"\n",
    "    def do_nonlocal():\n",
    "        #ローカルからネステッドへスコープを移す\n",
    "        nonlocal s2\n",
    "        #ネステッドスコープ\n",
    "        s2 = \"nonlocal\"\n",
    "    def do_global():\n",
    "        #ローカルからグローバルへスコープを移す\n",
    "        global s3\n",
    "        #グローバルスコープ\n",
    "        s3 = \"global  \"\n",
    "        #ネステッドスコープ(scope_testのローカルスコープ)\n",
    "        s0 = s1 = s2 = s3 = \"test    \"\n",
    "        do_local()\n",
    "        print(\"After local    :\",s0,s1,s2,s3)\n",
    "        do_nonlocal()\n",
    "        print(\"After nonlocal :\",s0,s1,s2,s3)\n",
    "        do_global()\n",
    "        print(\"After global   :\",s0,s1,s2,s3)\n",
    "\n",
    "#グローバルスコープ\n",
    "s0 = s1 = s2 = s3 = \"initial\"\n",
    "print(\"In the global  :\",s0,s1,s2,s3)\n",
    "scope_test()\n",
    "print(\"After func call:\",s0,s1,s2,s3) \n"
   ]
  },
  {
   "cell_type": "code",
   "execution_count": null,
   "metadata": {},
   "outputs": [],
   "source": []
  }
 ]
}